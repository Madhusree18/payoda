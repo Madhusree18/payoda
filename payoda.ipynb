{
  "nbformat": 4,
  "nbformat_minor": 0,
  "metadata": {
    "colab": {
      "name": "payoda.ipynb",
      "provenance": []
    },
    "kernelspec": {
      "name": "python3",
      "display_name": "Python 3"
    }
  },
  "cells": [
    {
      "cell_type": "code",
      "metadata": {
        "id": "2orA15HVHAMh"
      },
      "source": [
        "import pandas as pd\r\n",
        "import numpy as np\r\n",
        "import matplotlib.pyplot as plt\r\n"
      ],
      "execution_count": 33,
      "outputs": []
    },
    {
      "cell_type": "code",
      "metadata": {
        "id": "ZtTydrUvHf27"
      },
      "source": [
        "dataset = pd.read_csv('/content/hepatitis_csv.csv')"
      ],
      "execution_count": 3,
      "outputs": []
    },
    {
      "cell_type": "code",
      "metadata": {
        "colab": {
          "base_uri": "https://localhost:8080/"
        },
        "id": "a1gsbuGeI1SK",
        "outputId": "39a3b881-17c9-4d17-add8-e7b7c23563db"
      },
      "source": [
        "dataset.shape"
      ],
      "execution_count": 4,
      "outputs": [
        {
          "output_type": "execute_result",
          "data": {
            "text/plain": [
              "(155, 20)"
            ]
          },
          "metadata": {
            "tags": []
          },
          "execution_count": 4
        }
      ]
    },
    {
      "cell_type": "code",
      "metadata": {
        "colab": {
          "base_uri": "https://localhost:8080/"
        },
        "id": "w7TU8drhI4qH",
        "outputId": "80f7c926-3aa0-4705-f9ac-39069ec32feb"
      },
      "source": [
        "dataset.info()"
      ],
      "execution_count": 5,
      "outputs": [
        {
          "output_type": "stream",
          "text": [
            "<class 'pandas.core.frame.DataFrame'>\n",
            "RangeIndex: 155 entries, 0 to 154\n",
            "Data columns (total 20 columns):\n",
            " #   Column           Non-Null Count  Dtype  \n",
            "---  ------           --------------  -----  \n",
            " 0   age              155 non-null    int64  \n",
            " 1   sex              155 non-null    object \n",
            " 2   steroid          154 non-null    object \n",
            " 3   antivirals       155 non-null    bool   \n",
            " 4   fatigue          154 non-null    object \n",
            " 5   malaise          154 non-null    object \n",
            " 6   anorexia         154 non-null    object \n",
            " 7   liver_big        145 non-null    object \n",
            " 8   liver_firm       144 non-null    object \n",
            " 9   spleen_palpable  150 non-null    object \n",
            " 10  spiders          150 non-null    object \n",
            " 11  ascites          150 non-null    object \n",
            " 12  varices          150 non-null    object \n",
            " 13  bilirubin        149 non-null    float64\n",
            " 14  alk_phosphate    126 non-null    float64\n",
            " 15  sgot             151 non-null    float64\n",
            " 16  albumin          139 non-null    float64\n",
            " 17  protime          88 non-null     float64\n",
            " 18  histology        155 non-null    bool   \n",
            " 19  class            155 non-null    object \n",
            "dtypes: bool(2), float64(5), int64(1), object(12)\n",
            "memory usage: 22.2+ KB\n"
          ],
          "name": "stdout"
        }
      ]
    },
    {
      "cell_type": "code",
      "metadata": {
        "colab": {
          "base_uri": "https://localhost:8080/"
        },
        "id": "uAJDF6WmJLP4",
        "outputId": "d1980973-ab90-484b-d78c-4778d0535704"
      },
      "source": [
        "dataset.isnull().sum()"
      ],
      "execution_count": 8,
      "outputs": [
        {
          "output_type": "execute_result",
          "data": {
            "text/plain": [
              "age                 0\n",
              "sex                 0\n",
              "steroid             1\n",
              "antivirals          0\n",
              "fatigue             1\n",
              "malaise             1\n",
              "anorexia            1\n",
              "liver_big          10\n",
              "liver_firm         11\n",
              "spleen_palpable     5\n",
              "spiders             5\n",
              "ascites             5\n",
              "varices             5\n",
              "bilirubin           6\n",
              "alk_phosphate      29\n",
              "sgot                4\n",
              "albumin            16\n",
              "protime            67\n",
              "histology           0\n",
              "class               0\n",
              "dtype: int64"
            ]
          },
          "metadata": {
            "tags": []
          },
          "execution_count": 8
        }
      ]
    },
    {
      "cell_type": "code",
      "metadata": {
        "id": "fyV7qJR-LSiC"
      },
      "source": [
        "median1 = dataset[\"steroid\"].median()\r\n",
        "median2 = dataset[\"fatigue\"].median()\r\n",
        "median3 = dataset[\"malaise\"].median()\r\n",
        "median4 = dataset[\"anorexia\"].median()\r\n",
        "median5 = dataset[\"liver_big\"].median()\r\n",
        "median6 = dataset[\"liver_firm\"].median()\r\n",
        "median7 = dataset[\"spleen_palpable\"].median()\r\n",
        "median8 = dataset[\"spiders\"].median()\r\n",
        "median9 = dataset[\"ascites\"].median()\r\n",
        "median10 = dataset[\"varices\"].median()\r\n",
        "median11 = dataset[\"bilirubin\"].median()\r\n",
        "median12 = dataset[\"alk_phosphate\"].median()\r\n",
        "median13 = dataset[\"sgot\"].median()\r\n",
        "median14 = dataset[\"albumin\"].median()\r\n",
        "\r\n",
        "\r\n",
        "dataset[\"steroid\"].replace(np.nan,median1,inplace =True)\r\n",
        "dataset[\"fatigue\"].replace(np.nan,median2,inplace =True)\r\n",
        "dataset[\"malaise\"].replace(np.nan,median3,inplace =True)\r\n",
        "dataset[\"anorexia\"].replace(np.nan,median4,inplace =True)\r\n",
        "dataset[\"liver_big\"].replace(np.nan,median5,inplace =True)\r\n",
        "dataset[\"liver_firm\"].replace(np.nan,median6,inplace =True)\r\n",
        "dataset[\"spleen_palpable\"].replace(np.nan,median7,inplace =True)\r\n",
        "dataset[\"spiders\"].replace(np.nan,median8,inplace =True)\r\n",
        "dataset[\"ascites\"].replace(np.nan,median9,inplace =True)\r\n",
        "dataset[\"varices\"].replace(np.nan,median10,inplace =True)\r\n",
        "dataset[\"bilirubin\"].replace(np.nan,median11,inplace =True)\r\n",
        "dataset[\"alk_phosphate\"].replace(np.nan,median12,inplace =True)\r\n",
        "dataset[\"sgot\"].replace(np.nan,median13,inplace =True)\r\n",
        "dataset[\"albumin\"].replace(np.nan,median14,inplace =True)"
      ],
      "execution_count": 23,
      "outputs": []
    },
    {
      "cell_type": "code",
      "metadata": {
        "colab": {
          "base_uri": "https://localhost:8080/"
        },
        "id": "Bscwpp4GMp74",
        "outputId": "099ae17f-252a-48fa-b3f3-ac6560e977cc"
      },
      "source": [
        "dataset.isnull().sum()"
      ],
      "execution_count": 24,
      "outputs": [
        {
          "output_type": "execute_result",
          "data": {
            "text/plain": [
              "age                 0\n",
              "sex                 0\n",
              "steroid             0\n",
              "antivirals          0\n",
              "fatigue             0\n",
              "malaise             0\n",
              "anorexia            0\n",
              "liver_big           0\n",
              "liver_firm          0\n",
              "spleen_palpable     0\n",
              "spiders             0\n",
              "ascites             0\n",
              "varices             0\n",
              "bilirubin           0\n",
              "alk_phosphate       0\n",
              "sgot                0\n",
              "albumin             0\n",
              "protime            67\n",
              "histology           0\n",
              "class               0\n",
              "dtype: int64"
            ]
          },
          "metadata": {
            "tags": []
          },
          "execution_count": 24
        }
      ]
    },
    {
      "cell_type": "code",
      "metadata": {
        "id": "-4ZQETn9PwAH"
      },
      "source": [
        "dataset.drop('protime', inplace=True, axis=1)\r\n"
      ],
      "execution_count": 27,
      "outputs": []
    },
    {
      "cell_type": "code",
      "metadata": {
        "colab": {
          "base_uri": "https://localhost:8080/"
        },
        "id": "EGjkhX94QbQG",
        "outputId": "8acccfcc-9d03-45c1-d595-314d3f754cb7"
      },
      "source": [
        "dataset.shape"
      ],
      "execution_count": 29,
      "outputs": [
        {
          "output_type": "execute_result",
          "data": {
            "text/plain": [
              "(155, 19)"
            ]
          },
          "metadata": {
            "tags": []
          },
          "execution_count": 29
        }
      ]
    },
    {
      "cell_type": "code",
      "metadata": {
        "colab": {
          "base_uri": "https://localhost:8080/"
        },
        "id": "onOAAi3LQn6C",
        "outputId": "bbddb285-e4a7-4add-b6de-4fec7607f209"
      },
      "source": [
        "duplicate = dataset.duplicated()\r\n",
        "duplicate.sum()"
      ],
      "execution_count": 30,
      "outputs": [
        {
          "output_type": "execute_result",
          "data": {
            "text/plain": [
              "0"
            ]
          },
          "metadata": {
            "tags": []
          },
          "execution_count": 30
        }
      ]
    },
    {
      "cell_type": "code",
      "metadata": {
        "colab": {
          "base_uri": "https://localhost:8080/",
          "height": 178
        },
        "id": "8EYU2bPERqYk",
        "outputId": "e2350189-47e3-449b-909a-3c748ea2a110"
      },
      "source": [
        "\r\n",
        "import seaborn as sns\r\n",
        "correlation = dataset.corr()\r\n",
        "correlation.style.background_gradient(cmap='coolwarm')"
      ],
      "execution_count": 42,
      "outputs": [
        {
          "output_type": "execute_result",
          "data": {
            "text/html": [
              "<style  type=\"text/css\" >\n",
              "#T_5d74eff8_53e6_11eb_91bb_0242ac1c0002row0_col0,#T_5d74eff8_53e6_11eb_91bb_0242ac1c0002row1_col1,#T_5d74eff8_53e6_11eb_91bb_0242ac1c0002row2_col2,#T_5d74eff8_53e6_11eb_91bb_0242ac1c0002row3_col3,#T_5d74eff8_53e6_11eb_91bb_0242ac1c0002row4_col4,#T_5d74eff8_53e6_11eb_91bb_0242ac1c0002row5_col5,#T_5d74eff8_53e6_11eb_91bb_0242ac1c0002row6_col6{\n",
              "            background-color:  #b40426;\n",
              "            color:  #f1f1f1;\n",
              "        }#T_5d74eff8_53e6_11eb_91bb_0242ac1c0002row0_col1{\n",
              "            background-color:  #7699f6;\n",
              "            color:  #000000;\n",
              "        }#T_5d74eff8_53e6_11eb_91bb_0242ac1c0002row0_col2{\n",
              "            background-color:  #b1cbfc;\n",
              "            color:  #000000;\n",
              "        }#T_5d74eff8_53e6_11eb_91bb_0242ac1c0002row0_col3,#T_5d74eff8_53e6_11eb_91bb_0242ac1c0002row3_col4{\n",
              "            background-color:  #92b4fe;\n",
              "            color:  #000000;\n",
              "        }#T_5d74eff8_53e6_11eb_91bb_0242ac1c0002row0_col4{\n",
              "            background-color:  #7093f3;\n",
              "            color:  #000000;\n",
              "        }#T_5d74eff8_53e6_11eb_91bb_0242ac1c0002row0_col5{\n",
              "            background-color:  #5875e1;\n",
              "            color:  #000000;\n",
              "        }#T_5d74eff8_53e6_11eb_91bb_0242ac1c0002row0_col6{\n",
              "            background-color:  #b5cdfa;\n",
              "            color:  #000000;\n",
              "        }#T_5d74eff8_53e6_11eb_91bb_0242ac1c0002row1_col0{\n",
              "            background-color:  #7b9ff9;\n",
              "            color:  #000000;\n",
              "        }#T_5d74eff8_53e6_11eb_91bb_0242ac1c0002row1_col2{\n",
              "            background-color:  #6687ed;\n",
              "            color:  #000000;\n",
              "        }#T_5d74eff8_53e6_11eb_91bb_0242ac1c0002row1_col3{\n",
              "            background-color:  #6282ea;\n",
              "            color:  #000000;\n",
              "        }#T_5d74eff8_53e6_11eb_91bb_0242ac1c0002row1_col4,#T_5d74eff8_53e6_11eb_91bb_0242ac1c0002row2_col5,#T_5d74eff8_53e6_11eb_91bb_0242ac1c0002row5_col0,#T_5d74eff8_53e6_11eb_91bb_0242ac1c0002row5_col2,#T_5d74eff8_53e6_11eb_91bb_0242ac1c0002row5_col3,#T_5d74eff8_53e6_11eb_91bb_0242ac1c0002row5_col4,#T_5d74eff8_53e6_11eb_91bb_0242ac1c0002row5_col6,#T_5d74eff8_53e6_11eb_91bb_0242ac1c0002row6_col1{\n",
              "            background-color:  #3b4cc0;\n",
              "            color:  #f1f1f1;\n",
              "        }#T_5d74eff8_53e6_11eb_91bb_0242ac1c0002row1_col5{\n",
              "            background-color:  #bbd1f8;\n",
              "            color:  #000000;\n",
              "        }#T_5d74eff8_53e6_11eb_91bb_0242ac1c0002row1_col6{\n",
              "            background-color:  #516ddb;\n",
              "            color:  #000000;\n",
              "        }#T_5d74eff8_53e6_11eb_91bb_0242ac1c0002row2_col0{\n",
              "            background-color:  #98b9ff;\n",
              "            color:  #000000;\n",
              "        }#T_5d74eff8_53e6_11eb_91bb_0242ac1c0002row2_col1{\n",
              "            background-color:  #4055c8;\n",
              "            color:  #f1f1f1;\n",
              "        }#T_5d74eff8_53e6_11eb_91bb_0242ac1c0002row2_col3{\n",
              "            background-color:  #afcafc;\n",
              "            color:  #000000;\n",
              "        }#T_5d74eff8_53e6_11eb_91bb_0242ac1c0002row2_col4{\n",
              "            background-color:  #a2c1ff;\n",
              "            color:  #000000;\n",
              "        }#T_5d74eff8_53e6_11eb_91bb_0242ac1c0002row2_col6{\n",
              "            background-color:  #cbd8ee;\n",
              "            color:  #000000;\n",
              "        }#T_5d74eff8_53e6_11eb_91bb_0242ac1c0002row3_col0{\n",
              "            background-color:  #7da0f9;\n",
              "            color:  #000000;\n",
              "        }#T_5d74eff8_53e6_11eb_91bb_0242ac1c0002row3_col1{\n",
              "            background-color:  #445acc;\n",
              "            color:  #f1f1f1;\n",
              "        }#T_5d74eff8_53e6_11eb_91bb_0242ac1c0002row3_col2{\n",
              "            background-color:  #b6cefa;\n",
              "            color:  #000000;\n",
              "        }#T_5d74eff8_53e6_11eb_91bb_0242ac1c0002row3_col5{\n",
              "            background-color:  #4257c9;\n",
              "            color:  #f1f1f1;\n",
              "        }#T_5d74eff8_53e6_11eb_91bb_0242ac1c0002row3_col6{\n",
              "            background-color:  #c5d6f2;\n",
              "            color:  #000000;\n",
              "        }#T_5d74eff8_53e6_11eb_91bb_0242ac1c0002row4_col0{\n",
              "            background-color:  #8fb1fe;\n",
              "            color:  #000000;\n",
              "        }#T_5d74eff8_53e6_11eb_91bb_0242ac1c0002row4_col1{\n",
              "            background-color:  #5572df;\n",
              "            color:  #000000;\n",
              "        }#T_5d74eff8_53e6_11eb_91bb_0242ac1c0002row4_col2{\n",
              "            background-color:  #cdd9ec;\n",
              "            color:  #000000;\n",
              "        }#T_5d74eff8_53e6_11eb_91bb_0242ac1c0002row4_col3{\n",
              "            background-color:  #bcd2f7;\n",
              "            color:  #000000;\n",
              "        }#T_5d74eff8_53e6_11eb_91bb_0242ac1c0002row4_col5{\n",
              "            background-color:  #799cf8;\n",
              "            color:  #000000;\n",
              "        }#T_5d74eff8_53e6_11eb_91bb_0242ac1c0002row4_col6{\n",
              "            background-color:  #abc8fd;\n",
              "            color:  #000000;\n",
              "        }#T_5d74eff8_53e6_11eb_91bb_0242ac1c0002row5_col1{\n",
              "            background-color:  #9fbfff;\n",
              "            color:  #000000;\n",
              "        }#T_5d74eff8_53e6_11eb_91bb_0242ac1c0002row6_col0{\n",
              "            background-color:  #a9c6fd;\n",
              "            color:  #000000;\n",
              "        }#T_5d74eff8_53e6_11eb_91bb_0242ac1c0002row6_col2{\n",
              "            background-color:  #d2dbe8;\n",
              "            color:  #000000;\n",
              "        }#T_5d74eff8_53e6_11eb_91bb_0242ac1c0002row6_col3{\n",
              "            background-color:  #c9d7f0;\n",
              "            color:  #000000;\n",
              "        }#T_5d74eff8_53e6_11eb_91bb_0242ac1c0002row6_col4{\n",
              "            background-color:  #81a4fb;\n",
              "            color:  #000000;\n",
              "        }#T_5d74eff8_53e6_11eb_91bb_0242ac1c0002row6_col5{\n",
              "            background-color:  #485fd1;\n",
              "            color:  #f1f1f1;\n",
              "        }</style><table id=\"T_5d74eff8_53e6_11eb_91bb_0242ac1c0002\" ><thead>    <tr>        <th class=\"blank level0\" ></th>        <th class=\"col_heading level0 col0\" >age</th>        <th class=\"col_heading level0 col1\" >antivirals</th>        <th class=\"col_heading level0 col2\" >bilirubin</th>        <th class=\"col_heading level0 col3\" >alk_phosphate</th>        <th class=\"col_heading level0 col4\" >sgot</th>        <th class=\"col_heading level0 col5\" >albumin</th>        <th class=\"col_heading level0 col6\" >histology</th>    </tr></thead><tbody>\n",
              "                <tr>\n",
              "                        <th id=\"T_5d74eff8_53e6_11eb_91bb_0242ac1c0002level0_row0\" class=\"row_heading level0 row0\" >age</th>\n",
              "                        <td id=\"T_5d74eff8_53e6_11eb_91bb_0242ac1c0002row0_col0\" class=\"data row0 col0\" >1.000000</td>\n",
              "                        <td id=\"T_5d74eff8_53e6_11eb_91bb_0242ac1c0002row0_col1\" class=\"data row0 col1\" >0.013100</td>\n",
              "                        <td id=\"T_5d74eff8_53e6_11eb_91bb_0242ac1c0002row0_col2\" class=\"data row0 col2\" >0.115205</td>\n",
              "                        <td id=\"T_5d74eff8_53e6_11eb_91bb_0242ac1c0002row0_col3\" class=\"data row0 col3\" >0.017954</td>\n",
              "                        <td id=\"T_5d74eff8_53e6_11eb_91bb_0242ac1c0002row0_col4\" class=\"data row0 col4\" >0.080267</td>\n",
              "                        <td id=\"T_5d74eff8_53e6_11eb_91bb_0242ac1c0002row0_col5\" class=\"data row0 col5\" >-0.237422</td>\n",
              "                        <td id=\"T_5d74eff8_53e6_11eb_91bb_0242ac1c0002row0_col6\" class=\"data row0 col6\" >0.170780</td>\n",
              "            </tr>\n",
              "            <tr>\n",
              "                        <th id=\"T_5d74eff8_53e6_11eb_91bb_0242ac1c0002level0_row1\" class=\"row_heading level0 row1\" >antivirals</th>\n",
              "                        <td id=\"T_5d74eff8_53e6_11eb_91bb_0242ac1c0002row1_col0\" class=\"data row1 col0\" >0.013100</td>\n",
              "                        <td id=\"T_5d74eff8_53e6_11eb_91bb_0242ac1c0002row1_col1\" class=\"data row1 col1\" >1.000000</td>\n",
              "                        <td id=\"T_5d74eff8_53e6_11eb_91bb_0242ac1c0002row1_col2\" class=\"data row1 col2\" >-0.181197</td>\n",
              "                        <td id=\"T_5d74eff8_53e6_11eb_91bb_0242ac1c0002row1_col3\" class=\"data row1 col3\" >-0.167796</td>\n",
              "                        <td id=\"T_5d74eff8_53e6_11eb_91bb_0242ac1c0002row1_col4\" class=\"data row1 col4\" >-0.104251</td>\n",
              "                        <td id=\"T_5d74eff8_53e6_11eb_91bb_0242ac1c0002row1_col5\" class=\"data row1 col5\" >0.156971</td>\n",
              "                        <td id=\"T_5d74eff8_53e6_11eb_91bb_0242ac1c0002row1_col6\" class=\"data row1 col6\" >-0.209242</td>\n",
              "            </tr>\n",
              "            <tr>\n",
              "                        <th id=\"T_5d74eff8_53e6_11eb_91bb_0242ac1c0002level0_row2\" class=\"row_heading level0 row2\" >bilirubin</th>\n",
              "                        <td id=\"T_5d74eff8_53e6_11eb_91bb_0242ac1c0002row2_col0\" class=\"data row2 col0\" >0.115205</td>\n",
              "                        <td id=\"T_5d74eff8_53e6_11eb_91bb_0242ac1c0002row2_col1\" class=\"data row2 col1\" >-0.181197</td>\n",
              "                        <td id=\"T_5d74eff8_53e6_11eb_91bb_0242ac1c0002row2_col2\" class=\"data row2 col2\" >1.000000</td>\n",
              "                        <td id=\"T_5d74eff8_53e6_11eb_91bb_0242ac1c0002row2_col3\" class=\"data row2 col3\" >0.133257</td>\n",
              "                        <td id=\"T_5d74eff8_53e6_11eb_91bb_0242ac1c0002row2_col4\" class=\"data row2 col4\" >0.236464</td>\n",
              "                        <td id=\"T_5d74eff8_53e6_11eb_91bb_0242ac1c0002row2_col5\" class=\"data row2 col5\" >-0.370526</td>\n",
              "                        <td id=\"T_5d74eff8_53e6_11eb_91bb_0242ac1c0002row2_col6\" class=\"data row2 col6\" >0.260217</td>\n",
              "            </tr>\n",
              "            <tr>\n",
              "                        <th id=\"T_5d74eff8_53e6_11eb_91bb_0242ac1c0002level0_row3\" class=\"row_heading level0 row3\" >alk_phosphate</th>\n",
              "                        <td id=\"T_5d74eff8_53e6_11eb_91bb_0242ac1c0002row3_col0\" class=\"data row3 col0\" >0.017954</td>\n",
              "                        <td id=\"T_5d74eff8_53e6_11eb_91bb_0242ac1c0002row3_col1\" class=\"data row3 col1\" >-0.167796</td>\n",
              "                        <td id=\"T_5d74eff8_53e6_11eb_91bb_0242ac1c0002row3_col2\" class=\"data row3 col2\" >0.133257</td>\n",
              "                        <td id=\"T_5d74eff8_53e6_11eb_91bb_0242ac1c0002row3_col3\" class=\"data row3 col3\" >1.000000</td>\n",
              "                        <td id=\"T_5d74eff8_53e6_11eb_91bb_0242ac1c0002row3_col4\" class=\"data row3 col4\" >0.184426</td>\n",
              "                        <td id=\"T_5d74eff8_53e6_11eb_91bb_0242ac1c0002row3_col5\" class=\"data row3 col5\" >-0.336258</td>\n",
              "                        <td id=\"T_5d74eff8_53e6_11eb_91bb_0242ac1c0002row3_col6\" class=\"data row3 col6\" >0.235475</td>\n",
              "            </tr>\n",
              "            <tr>\n",
              "                        <th id=\"T_5d74eff8_53e6_11eb_91bb_0242ac1c0002level0_row4\" class=\"row_heading level0 row4\" >sgot</th>\n",
              "                        <td id=\"T_5d74eff8_53e6_11eb_91bb_0242ac1c0002row4_col0\" class=\"data row4 col0\" >0.080267</td>\n",
              "                        <td id=\"T_5d74eff8_53e6_11eb_91bb_0242ac1c0002row4_col1\" class=\"data row4 col1\" >-0.104251</td>\n",
              "                        <td id=\"T_5d74eff8_53e6_11eb_91bb_0242ac1c0002row4_col2\" class=\"data row4 col2\" >0.236464</td>\n",
              "                        <td id=\"T_5d74eff8_53e6_11eb_91bb_0242ac1c0002row4_col3\" class=\"data row4 col3\" >0.184426</td>\n",
              "                        <td id=\"T_5d74eff8_53e6_11eb_91bb_0242ac1c0002row4_col4\" class=\"data row4 col4\" >1.000000</td>\n",
              "                        <td id=\"T_5d74eff8_53e6_11eb_91bb_0242ac1c0002row4_col5\" class=\"data row4 col5\" >-0.107613</td>\n",
              "                        <td id=\"T_5d74eff8_53e6_11eb_91bb_0242ac1c0002row4_col6\" class=\"data row4 col6\" >0.132690</td>\n",
              "            </tr>\n",
              "            <tr>\n",
              "                        <th id=\"T_5d74eff8_53e6_11eb_91bb_0242ac1c0002level0_row5\" class=\"row_heading level0 row5\" >albumin</th>\n",
              "                        <td id=\"T_5d74eff8_53e6_11eb_91bb_0242ac1c0002row5_col0\" class=\"data row5 col0\" >-0.237422</td>\n",
              "                        <td id=\"T_5d74eff8_53e6_11eb_91bb_0242ac1c0002row5_col1\" class=\"data row5 col1\" >0.156971</td>\n",
              "                        <td id=\"T_5d74eff8_53e6_11eb_91bb_0242ac1c0002row5_col2\" class=\"data row5 col2\" >-0.370526</td>\n",
              "                        <td id=\"T_5d74eff8_53e6_11eb_91bb_0242ac1c0002row5_col3\" class=\"data row5 col3\" >-0.336258</td>\n",
              "                        <td id=\"T_5d74eff8_53e6_11eb_91bb_0242ac1c0002row5_col4\" class=\"data row5 col4\" >-0.107613</td>\n",
              "                        <td id=\"T_5d74eff8_53e6_11eb_91bb_0242ac1c0002row5_col5\" class=\"data row5 col5\" >1.000000</td>\n",
              "                        <td id=\"T_5d74eff8_53e6_11eb_91bb_0242ac1c0002row5_col6\" class=\"data row5 col6\" >-0.307245</td>\n",
              "            </tr>\n",
              "            <tr>\n",
              "                        <th id=\"T_5d74eff8_53e6_11eb_91bb_0242ac1c0002level0_row6\" class=\"row_heading level0 row6\" >histology</th>\n",
              "                        <td id=\"T_5d74eff8_53e6_11eb_91bb_0242ac1c0002row6_col0\" class=\"data row6 col0\" >0.170780</td>\n",
              "                        <td id=\"T_5d74eff8_53e6_11eb_91bb_0242ac1c0002row6_col1\" class=\"data row6 col1\" >-0.209242</td>\n",
              "                        <td id=\"T_5d74eff8_53e6_11eb_91bb_0242ac1c0002row6_col2\" class=\"data row6 col2\" >0.260217</td>\n",
              "                        <td id=\"T_5d74eff8_53e6_11eb_91bb_0242ac1c0002row6_col3\" class=\"data row6 col3\" >0.235475</td>\n",
              "                        <td id=\"T_5d74eff8_53e6_11eb_91bb_0242ac1c0002row6_col4\" class=\"data row6 col4\" >0.132690</td>\n",
              "                        <td id=\"T_5d74eff8_53e6_11eb_91bb_0242ac1c0002row6_col5\" class=\"data row6 col5\" >-0.307245</td>\n",
              "                        <td id=\"T_5d74eff8_53e6_11eb_91bb_0242ac1c0002row6_col6\" class=\"data row6 col6\" >1.000000</td>\n",
              "            </tr>\n",
              "    </tbody></table>"
            ],
            "text/plain": [
              "<pandas.io.formats.style.Styler at 0x7f94b1c0cc18>"
            ]
          },
          "metadata": {
            "tags": []
          },
          "execution_count": 42
        }
      ]
    },
    {
      "cell_type": "code",
      "metadata": {
        "colab": {
          "base_uri": "https://localhost:8080/",
          "height": 265
        },
        "id": "sygd91NTSUPp",
        "outputId": "4063c9e0-4f9b-434b-f4e5-a23a40ba9652"
      },
      "source": [
        "dataset.boxplot(column = [\"sgot\"])\r\n",
        "plt.show()"
      ],
      "execution_count": 34,
      "outputs": [
        {
          "output_type": "display_data",
          "data": {
            "image/png": "[encoded data removed]",
            "text/plain": [
              "<Figure size 432x288 with 1 Axes>"
            ]
          },
          "metadata": {
            "tags": [],
            "needs_background": "light"
          }
        }
      ]
    }
  ]
}